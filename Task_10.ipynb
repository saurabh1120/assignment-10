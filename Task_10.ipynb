{
 "cells": [
  {
   "cell_type": "markdown",
   "metadata": {},
   "source": [
    "# Task 10\n",
    "# Registration id : SIRSS1263\n",
    "# Name : Saurabh sinha"
   ]
  },
  {
   "cell_type": "markdown",
   "metadata": {},
   "source": [
    "# Q1. Given an array arr[] of positive and negative numbers only.\n",
    "# The task is to find the length of the longest alternating\n",
    "# (means negative-positive-negative or positive-negative-positive) subsequence present in\n",
    "# the array.\n",
    "\n",
    "# Examples:\n",
    "\n",
    "# Input: arr[] = {-4, 3, -5, 9, 10, 12, 2, -1}\n",
    "\n",
    "# Output: 5\n",
    "\n",
    "# Explanation:\n",
    "# The longest sequence is {-4, 3, -5, 9, -1}, which is of length 5. There can be many more\n",
    "# subsequences of this length."
   ]
  },
  {
   "cell_type": "code",
   "execution_count": 1,
   "metadata": {},
   "outputs": [],
   "source": [
    "def FLS(x):\n",
    " \n",
    "    maxLen = 1\n",
    "    endIndex = 0\n",
    "    currLen = 1\n",
    "    for i in range(1, len(x)):\n",
    "        if x[i] * x[i - 1] < 0:\n",
    "            currLen = currLen + 1\n",
    "            if currLen > maxLen:\n",
    "                maxLen = currLen\n",
    "                endIndex = i\n",
    "        else:\n",
    "            currLen = 1\n",
    " \n",
    "    sublist = x[endIndex - maxLen + 1: endIndex + 1]\n",
    "    print(\"The longest alternating sublist is:- \", sublist)\n",
    "    print(\"length of longest alternating sequences:- \",len(sublist))\n",
    " "
   ]
  },
  {
   "cell_type": "code",
   "execution_count": 2,
   "metadata": {},
   "outputs": [
    {
     "name": "stdout",
     "output_type": "stream",
     "text": [
      "The longest alternating sublist is:-  [-4, 3, -5, 9]\n",
      "length of longest alternating sequences:-  4\n"
     ]
    }
   ],
   "source": [
    "if __name__ == '__main__':\n",
    " \n",
    "    x = [-4, 3, -5, 9, 10, 12, 2, -1]\n",
    "    FLS(x)"
   ]
  },
  {
   "cell_type": "markdown",
   "metadata": {},
   "source": [
    "# Q2. Given a sorted array of positive integers, rearrange the array alternately i.e first\n",
    "\n",
    "# element should be the maximum value, second minimum value, third-second max, fourth-\n",
    "# second min and so on.\n",
    "\n",
    "# Examples:\n",
    "# Input: arr[] = {1, 2, 3, 4, 5, 6, 7}\n",
    "\n",
    "# Output: arr[] = {7, 1, 6, 2, 5, 3, 4}"
   ]
  },
  {
   "cell_type": "code",
   "execution_count": 3,
   "metadata": {},
   "outputs": [],
   "source": [
    "def Rrange(arr, n):\n",
    "   \n",
    "    temp = n*[None]\n",
    "    small, large = 0, n-1\n",
    " \n",
    "    flag = True\n",
    " \n",
    "    for i in range(n):\n",
    "        if flag is True:\n",
    "            temp[i] = arr[large]\n",
    "            large -= 1\n",
    "        else:\n",
    "            temp[i] = arr[small]\n",
    "            small += 1\n",
    " \n",
    "        flag = bool(1-flag)\n",
    " \n",
    "    for i in range(n):\n",
    "        arr[i] = temp[i]\n",
    "    return arr "
   ]
  },
  {
   "cell_type": "code",
   "execution_count": 4,
   "metadata": {},
   "outputs": [
    {
     "name": "stdout",
     "output_type": "stream",
     "text": [
      "Original Array:-  [1, 2, 3, 4, 5, 6, 7]\n",
      "\n",
      "\n",
      "Modified Array:-  [7, 1, 6, 2, 5, 3, 4]\n",
      "\n",
      "\n"
     ]
    }
   ],
   "source": [
    "arr = [1, 2, 3, 4, 5, 6, 7]\n",
    "n = len(arr)\n",
    "print(\"Original Array:- \",arr)\n",
    "print(\"\\n\")\n",
    "print(\"Modified Array:- \",Rrange(arr, n))\n",
    "print(\"\\n\")"
   ]
  },
  {
   "cell_type": "markdown",
   "metadata": {},
   "source": [
    "# Q3. Given an array arr of N integers. Find the contiguous sub-array with maximum sum.\n",
    "# Example 1:\n",
    "\n",
    "# Input:\n",
    "# N = 5\n",
    "# arr[] = {1,2,3,-2,5}\n",
    "\n",
    "# Output:\n",
    "# 9\n",
    "\n",
    "# Explanation:\n",
    "# Max subarray sum is 9\n",
    "# of elements (1, 2, 3, -2, 5) which\n",
    "# is a contiguous subarray."
   ]
  },
  {
   "cell_type": "code",
   "execution_count": 5,
   "metadata": {},
   "outputs": [],
   "source": [
    "def MSubArray(a,size):\n",
    "     \n",
    "    max_so_far =a[0]\n",
    "    curr_max = a[0]\n",
    "     \n",
    "    for i in range(1,size):\n",
    "        curr_max = max(a[i], curr_max + a[i])\n",
    "        max_so_far = max(max_so_far,curr_max)\n",
    "         \n",
    "    return max_so_far "
   ]
  },
  {
   "cell_type": "code",
   "execution_count": 6,
   "metadata": {},
   "outputs": [
    {
     "name": "stdout",
     "output_type": "stream",
     "text": [
      "Maximum contiguous sum is : - 9\n"
     ]
    }
   ],
   "source": [
    " \n",
    "a = [1, 2, 3, -2, 5]\n",
    "print(\"Maximum contiguous sum is : -\" , MSubArray(a,len(a)))"
   ]
  },
  {
   "cell_type": "markdown",
   "metadata": {},
   "source": [
    "# Q4. Chain Marketing Organization has a scheme for income generation, through which its\n",
    "# members generate income for themselves. The scheme is such that suppose A joins the\n",
    "# scheme and makes R and V join this scheme then A is Parent Member of R and V who are\n",
    "# child Members. When any member joins the scheme then the parent gets a total\n",
    "# commission of 10% from each of its child members.\n",
    "\n",
    "# Child members receive a commission of 5% respectively. If a parent member does not have\n",
    "# any member joined under him, then he gets a commission of 5%.\n",
    "# Take the name of the members joining the scheme as input.\n",
    "# Display how many members joined the scheme including parent members. Calculate the\n",
    "# Total commission gained by each member in the scheme. The fixed amount for joining the\n",
    "# scheme is Rs.5000 on which commission will be generated\n",
    "# SchemeAmount = 5000"
   ]
  },
  {
   "cell_type": "code",
   "execution_count": 7,
   "metadata": {},
   "outputs": [
    {
     "name": "stdout",
     "output_type": "stream",
     "text": [
      "saurabh\n",
      "Y\n",
      "sagar\n",
      "TOTAL MEMBERS:2\n",
      "COMMISSION DETAILS \n",
      "saurabh:500 INR\n",
      "sagar:250 INR\n"
     ]
    }
   ],
   "source": [
    "parent = input()\n",
    "Yes_No = input()\n",
    "if Yes_No == \"N\":\n",
    "    print(\"TOTAL MEMBERS:1\\nCOMMISSION DETAILS\\n{0}: 250 INR\".format(parent))\n",
    "elif Yes_No == \"Y\":\n",
    "    child=list(map(str,input().split(\",\")))\n",
    "    print(\"TOTAL MEMBERS:{}\".format(len(child)+1))\n",
    "    print(\"COMMISSION DETAILS \\n{0}:{1} INR\".format(parent,len(child)*500))\n",
    "    for i in child:\n",
    "        print(\"{0}:250 INR\".format(i))"
   ]
  },
  {
   "cell_type": "markdown",
   "metadata": {},
   "source": [
    "# Thank You!"
   ]
  }
 ],
 "metadata": {
  "kernelspec": {
   "display_name": "Python 3",
   "language": "python",
   "name": "python3"
  },
  "language_info": {
   "codemirror_mode": {
    "name": "ipython",
    "version": 3
   },
   "file_extension": ".py",
   "mimetype": "text/x-python",
   "name": "python",
   "nbconvert_exporter": "python",
   "pygments_lexer": "ipython3",
   "version": "3.8.5"
  }
 },
 "nbformat": 4,
 "nbformat_minor": 4
}
